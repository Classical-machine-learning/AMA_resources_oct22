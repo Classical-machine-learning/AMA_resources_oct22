{
 "cells": [
  {
   "cell_type": "markdown",
   "id": "8f5bcd21-27d0-4162-bef8-a4a1ade82f59",
   "metadata": {
    "slideshow": {
     "slide_type": "slide"
    },
    "tags": []
   },
   "source": [
    "![AMA](ama.jpg)\n",
    "# AMA - MACHINE LEARNING\n",
    "### By\n",
    "## SUBHADITYA MUKHERJEE"
   ]
  },
  {
   "cell_type": "code",
   "execution_count": null,
   "metadata": {},
   "outputs": [],
   "source": []
  },
  {
   "cell_type": "code",
   "execution_count": null,
   "metadata": {},
   "outputs": [],
   "source": []
  },
  {
   "cell_type": "code",
   "execution_count": null,
   "metadata": {},
   "outputs": [],
   "source": []
  },
  {
   "cell_type": "code",
   "execution_count": null,
   "metadata": {},
   "outputs": [],
   "source": []
  },
  {
   "cell_type": "markdown",
   "metadata": {},
   "source": [
    "# A huge thank you to Dr. Hardik Molia :)"
   ]
  },
  {
   "cell_type": "code",
   "execution_count": null,
   "metadata": {},
   "outputs": [],
   "source": []
  },
  {
   "cell_type": "code",
   "execution_count": null,
   "metadata": {},
   "outputs": [],
   "source": []
  },
  {
   "cell_type": "code",
   "execution_count": null,
   "metadata": {},
   "outputs": [],
   "source": []
  },
  {
   "cell_type": "code",
   "execution_count": null,
   "metadata": {},
   "outputs": [],
   "source": []
  },
  {
   "cell_type": "code",
   "execution_count": null,
   "metadata": {},
   "outputs": [],
   "source": []
  },
  {
   "cell_type": "code",
   "execution_count": null,
   "metadata": {},
   "outputs": [],
   "source": []
  },
  {
   "cell_type": "markdown",
   "metadata": {},
   "source": [
    "# Resources\n",
    "- [github](https://github.com/SubhadityaMukherjee)\n",
    "- [this notebook](https://github.com/SubhadityaMukherjee/AMA_resources_oct22)"
   ]
  },
  {
   "cell_type": "code",
   "execution_count": null,
   "metadata": {},
   "outputs": [],
   "source": []
  },
  {
   "cell_type": "code",
   "execution_count": null,
   "metadata": {},
   "outputs": [],
   "source": []
  },
  {
   "cell_type": "code",
   "execution_count": null,
   "metadata": {},
   "outputs": [],
   "source": []
  },
  {
   "cell_type": "markdown",
   "metadata": {},
   "source": [
    "# A lot of questions\n",
    "<img src =\"clap.gif\">"
   ]
  },
  {
   "cell_type": "markdown",
   "metadata": {},
   "source": [
    "- 100 + \n",
    "- Abdul Saleem Javeed, Abhishek Kumar Saxena, Akshay A, Amudha.G, Anurag Verma, Arya Yash M, Asif Raja M, Abubakar Musa Ahmad, Ajit Kumar, Amutha Ganga A, Anjaneya Krishna Turai, Aryan Sharma, Bariya Chirag Parbatbhai, Bhatt Khushi Nileshkumar, Bhavesh Parmar, Bhugude Lakshmi, Brahmkshtriya Tejas Mukeshbhai, Darshik Rameshbhai Bhuva, Dangodara Ajay Nanjibhai , Darshil Bhavesh Shah, Dev Hemanshubhai Joshi, Dharmeshsingh Bhagat, Dhruvi Dharmendravan Gosai, Dineshnath Gopinath, Dr amit asthana, Dr. T. Marimuthu, Dr.China Venkateswarlu Sonagiri, Dr.M.Deepa, Drashti Vipulbhai Jasani, E.ELAKKIYA, G NIRMALA, GUDURU TARUN RAMESH, Geraldo Joan Pratama, Hardik Dilpbhai Mahajan, Janani J, Jenis Brijeshbhai Savaliya, Jignesh kumar saroj, Jinal H. Pastagia, K.RAJALAKSHMI, Kala R. Nayak, Kamlesh Dineshbhai Parmar, Karan Parimalbhai Bhatt, Keetikal Kevin Jiju, Kevinkumar jogiya, Krishna Prasad RaviKumar, Krishnakumar S, Krupali Kiranbhai Pithva , Kumar J. Parmar, LANGA SABA KAUSHAR JUNED BHAI , M.Sasikala, MANGROLIYA ANKUR BHARATBHAI, Mahmadamin Lodhiya, Miland sharma, Mohit Beniwal, Mr. JOGESWAR TRIPATHY, Mrs. Snehal Sachin Patil, Mrutyunjaya S Emmi, Ms. Shreya Tukaram Soddi, Ms. V. HINDUJA, Murugavelsuryaa.S, NIKHIL U, Nichole Ann R. Bacong, Nikita Devendran, PARTCIPANT, PRAJAPATI DEEP RAJUBHAI, PRASAD G, PREMA P, Parejiya Jaydeep, Parikshit M Arya, Pasupunuri Rakesh Rohan, Pithadiya Hemant Rajnibhai, Prajakta Mandar Dhamanskar, Prajjawal Singh, Praneesh M , Praveen Kumar Pal, Prof. Kumarsanjay K. Bhorekar, R.Vishalakshi, Radhakrishnan P, Raiyani Krupali Pravinbhai , Rakesh Tholia, Ramesh Kumar M, Rea Elyka B. Janaban, Riddhi Kundal, Rinkal Shah, Rishika Shrivastava, Ruchi Jain, S. Prabavathy, SAMSUDEEN S, SANTHOSH KUMAR J, SARAN BABU.S, SHELLY SINHA, SHUBHAM, SIDDARTH.S, SRIDHAR NAGAR, SRUTHI SIVARAMAN, SUMAN, Salman Hasmani, Sandhya G V, Satish Chau, Saviour Prakash GL, Senthil Prabhu.S., Shweta joshi, Soham Jitendra Solanki, Sowmiya.R, Surya.v, Tirth Shaileshkumar Patel , UMA S, UTADIYA PRAKASH BHIKHUBHAI, VIJAYALAKSHMI C, VISHNU, Varun Iyer, Vora Viren Mukeshbhai\n",
    "Abdul Saleem Javeed, Abhishek Kumar Saxena, Akshay A, Amudha.G, Anurag Verma, Arya Yash M, Asif Raja M, Abubakar Musa Ahmad, Ajit Kumar, Amutha Ganga A, Anjaneya Krishna Turai, Aryan Sharma, Bariya Chirag Parbatbhai, Bhatt Khushi Nileshkumar, Bhavesh Parmar, Bhugude Lakshmi, Brahmkshtriya Tejas Mukeshbhai, Darshik Rameshbhai Bhuva, Dangodara Ajay Nanjibhai , Darshil Bhavesh Shah, Dev Hemanshubhai Joshi, Dharmeshsingh Bhagat, Dhruvi Dharmendravan Gosai, Dineshnath Gopinath, Dr amit asthana, Dr. T. Marimuthu, Dr.China Venkateswarlu Sonagiri, Dr.M.Deepa, Drashti Vipulbhai Jasani, E.ELAKKIYA, G NIRMALA, GUDURU TARUN RAMESH, Geraldo Joan Pratama, Hardik Dilpbhai Mahajan, Janani J, Jenis Brijeshbhai Savaliya, Jignesh kumar saroj, Jinal H. Pastagia, K.RAJALAKSHMI, Kala R. Nayak, Kamlesh Dineshbhai Parmar, Karan Parimalbhai Bhatt, Keetikal Kevin Jiju, Kevinkumar jogiya, Krishna Prasad RaviKumar, Krishnakumar S, Krupali Kiranbhai Pithva , Kumar J. Parmar, LANGA SABA KAUSHAR JUNED BHAI , M.Sasikala, MANGROLIYA ANKUR BHARATBHAI, Mahmadamin Lodhiya, Miland sharma, Mohit Beniwal, Mr. JOGESWAR TRIPATHY, Mrs. Snehal Sachin Patil, Mrutyunjaya S Emmi, Ms. Shreya Tukaram Soddi, Ms. V. HINDUJA, Murugavelsuryaa.S, NIKHIL U, Nichole Ann R. Bacong, Nikita Devendran, PARTCIPANT, PRAJAPATI DEEP RAJUBHAI, PRASAD G, PREMA P, Parejiya Jaydeep, Parikshit M Arya, Pasupunuri Rakesh Rohan, Pithadiya Hemant Rajnibhai, Prajakta Mandar Dhamanskar, Prajjawal Singh, Praneesh M , Praveen Kumar Pal, Prof. Kumarsanjay K. Bhorekar, R.Vishalakshi, Radhakrishnan P, Raiyani Krupali Pravinbhai , Rakesh Tholia, Ramesh Kumar M, Rea Elyka B. Janaban, Riddhi Kundal, Rinkal Shah, Rishika Shrivastava, Ruchi Jain, S. Prabavathy, SAMSUDEEN S, SANTHOSH KUMAR J, SARAN BABU.S, SHELLY SINHA, SHUBHAM, SIDDARTH.S, SRIDHAR NAGAR, SRUTHI SIVARAMAN, SUMAN, Salman Hasmani, Sandhya G V, Satish Chau, Saviour Prakash GL, Senthil Prabhu.S., Shweta joshi, Soham Jitendra Solanki, Sowmiya.R, Surya.v, Tirth Shaileshkumar Patel , UMA S, UTADIYA PRAKASH BHIKHUBHAI, VIJAYALAKSHMI C, VISHNU, Varun Iyer, Vora Viren Mukeshbhai\n"
   ]
  },
  {
   "cell_type": "code",
   "execution_count": null,
   "metadata": {},
   "outputs": [],
   "source": []
  },
  {
   "cell_type": "code",
   "execution_count": null,
   "metadata": {},
   "outputs": [],
   "source": []
  },
  {
   "cell_type": "code",
   "execution_count": null,
   "metadata": {},
   "outputs": [],
   "source": []
  },
  {
   "cell_type": "markdown",
   "metadata": {},
   "source": [
    "# What makes me stay in this field?\n",
    "- [google](https://ai.googleblog.com/)\n",
    "- [deold](https://github.com/jantic/DeOldify)\n",
    "- [sota](https://paperswithcode.com/sota)"
   ]
  },
  {
   "cell_type": "code",
   "execution_count": null,
   "metadata": {},
   "outputs": [],
   "source": []
  },
  {
   "cell_type": "code",
   "execution_count": null,
   "metadata": {},
   "outputs": [],
   "source": []
  },
  {
   "cell_type": "code",
   "execution_count": null,
   "metadata": {},
   "outputs": [],
   "source": []
  },
  {
   "cell_type": "code",
   "execution_count": null,
   "metadata": {},
   "outputs": [],
   "source": []
  },
  {
   "cell_type": "code",
   "execution_count": null,
   "metadata": {},
   "outputs": [],
   "source": []
  },
  {
   "cell_type": "markdown",
   "metadata": {},
   "source": [
    "# Who is this session for ?\n",
    "- Part 1 : For the ones starting the journey\n",
    "- Part 2 : For the ones who are on the road\n",
    "- Part 3 : For the ones walking a bit ahead  \n",
    "\n",
    "# Note\n",
    "- Pacing of today's talk\n",
    "    - Most : Part 1\n",
    "    - Rest : Part 2\n",
    "    - Resources/Further questions : Part 3\n",
    "\n",
    "# Time\n",
    "- Approx 1.5 hours"
   ]
  },
  {
   "cell_type": "code",
   "execution_count": null,
   "id": "12d40b89-fdee-4e57-a549-f00c92edb5d1",
   "metadata": {},
   "outputs": [],
   "source": []
  },
  {
   "cell_type": "code",
   "execution_count": null,
   "metadata": {},
   "outputs": [],
   "source": []
  },
  {
   "cell_type": "code",
   "execution_count": null,
   "metadata": {},
   "outputs": [],
   "source": []
  },
  {
   "cell_type": "code",
   "execution_count": null,
   "metadata": {},
   "outputs": [],
   "source": []
  },
  {
   "cell_type": "markdown",
   "metadata": {},
   "source": [
    "# What will you get if you stay\n",
    "- An answer to the questions you asked me :)\n",
    "- Why should you care about Machine Learning?\n",
    "- A roadmap into your Machine Learning career\n",
    "- How can you use Machine Learning in your projects ... should you??\n",
    "- Advanced questions on specific topics!"
   ]
  },
  {
   "cell_type": "code",
   "execution_count": null,
   "metadata": {},
   "outputs": [],
   "source": []
  },
  {
   "cell_type": "code",
   "execution_count": null,
   "metadata": {},
   "outputs": [],
   "source": []
  },
  {
   "cell_type": "code",
   "execution_count": null,
   "metadata": {},
   "outputs": [],
   "source": []
  },
  {
   "cell_type": "code",
   "execution_count": null,
   "metadata": {},
   "outputs": [],
   "source": []
  },
  {
   "cell_type": "markdown",
   "metadata": {},
   "source": [
    "# How to make the most of this session?\n",
    "- Take what you need \n",
    "- BE INSPIRED not AFRAID\n",
    "- This will be provided\n",
    "- Futher questions : Contact\n",
    "- Relate with what you know"
   ]
  },
  {
   "cell_type": "code",
   "execution_count": null,
   "metadata": {},
   "outputs": [],
   "source": []
  },
  {
   "cell_type": "code",
   "execution_count": null,
   "metadata": {},
   "outputs": [],
   "source": []
  },
  {
   "cell_type": "code",
   "execution_count": null,
   "metadata": {},
   "outputs": [],
   "source": []
  },
  {
   "cell_type": "code",
   "execution_count": null,
   "metadata": {},
   "outputs": [],
   "source": []
  },
  {
   "cell_type": "markdown",
   "metadata": {},
   "source": [
    "# Part 1 : For the ones starting the journey\n",
    "<img src= \"hobbit.jpg\">"
   ]
  },
  {
   "cell_type": "code",
   "execution_count": null,
   "metadata": {},
   "outputs": [],
   "source": []
  },
  {
   "cell_type": "code",
   "execution_count": null,
   "metadata": {},
   "outputs": [],
   "source": []
  },
  {
   "cell_type": "code",
   "execution_count": null,
   "metadata": {},
   "outputs": [],
   "source": []
  },
  {
   "cell_type": "markdown",
   "metadata": {},
   "source": [
    "# AI vs ML vs DL \n",
    "![ml](mldl.jpeg)\n",
    "@Roberta Nicora"
   ]
  },
  {
   "cell_type": "code",
   "execution_count": null,
   "metadata": {},
   "outputs": [],
   "source": []
  },
  {
   "cell_type": "code",
   "execution_count": null,
   "metadata": {},
   "outputs": [],
   "source": []
  },
  {
   "cell_type": "code",
   "execution_count": null,
   "metadata": {},
   "outputs": [],
   "source": []
  },
  {
   "cell_type": "code",
   "execution_count": null,
   "metadata": {},
   "outputs": [],
   "source": []
  },
  {
   "cell_type": "code",
   "execution_count": null,
   "metadata": {},
   "outputs": [],
   "source": []
  },
  {
   "cell_type": "code",
   "execution_count": null,
   "metadata": {},
   "outputs": [],
   "source": []
  },
  {
   "cell_type": "markdown",
   "metadata": {},
   "source": [
    "# Will machines replace humans?\n",
    "<img src = \"walle.jpg\">\n",
    "@pixar"
   ]
  },
  {
   "cell_type": "code",
   "execution_count": null,
   "metadata": {},
   "outputs": [],
   "source": []
  },
  {
   "cell_type": "code",
   "execution_count": null,
   "metadata": {},
   "outputs": [],
   "source": []
  },
  {
   "cell_type": "code",
   "execution_count": null,
   "metadata": {},
   "outputs": [],
   "source": []
  },
  {
   "cell_type": "code",
   "execution_count": null,
   "metadata": {},
   "outputs": [],
   "source": []
  },
  {
   "cell_type": "markdown",
   "metadata": {},
   "source": [
    "# Scope of AI\n",
    "<img src = \"scope.png\">"
   ]
  },
  {
   "cell_type": "code",
   "execution_count": null,
   "metadata": {},
   "outputs": [],
   "source": []
  },
  {
   "cell_type": "code",
   "execution_count": null,
   "metadata": {},
   "outputs": [],
   "source": []
  },
  {
   "cell_type": "code",
   "execution_count": null,
   "metadata": {},
   "outputs": [],
   "source": []
  },
  {
   "cell_type": "markdown",
   "metadata": {},
   "source": [
    "# How can we start our career in it?\n",
    "<img src=\"roadmap.png\">"
   ]
  },
  {
   "cell_type": "code",
   "execution_count": null,
   "metadata": {},
   "outputs": [],
   "source": []
  },
  {
   "cell_type": "code",
   "execution_count": null,
   "metadata": {},
   "outputs": [],
   "source": []
  },
  {
   "cell_type": "code",
   "execution_count": null,
   "metadata": {},
   "outputs": [],
   "source": []
  },
  {
   "cell_type": "markdown",
   "metadata": {},
   "source": [
    "# Do I need to be a Math Genius?\n",
    "<img src=\"back.jpg\">\n",
    "@https://stackoverflow.com/questions/53287032/multi-layer-neural-network-back-propagation-formula-using-stochastic-gradient-d"
   ]
  },
  {
   "cell_type": "code",
   "execution_count": null,
   "metadata": {},
   "outputs": [],
   "source": []
  },
  {
   "cell_type": "code",
   "execution_count": null,
   "metadata": {},
   "outputs": [],
   "source": []
  },
  {
   "cell_type": "code",
   "execution_count": null,
   "metadata": {},
   "outputs": [],
   "source": []
  },
  {
   "cell_type": "markdown",
   "metadata": {},
   "source": [
    "# NO\n",
    "<img src=\"8552.gif\">"
   ]
  },
  {
   "cell_type": "markdown",
   "metadata": {},
   "source": [
    "# The Misconception\n",
    "- Knowledge\n",
    "- Companies"
   ]
  },
  {
   "cell_type": "code",
   "execution_count": null,
   "metadata": {},
   "outputs": [],
   "source": []
  },
  {
   "cell_type": "code",
   "execution_count": null,
   "metadata": {},
   "outputs": [],
   "source": []
  },
  {
   "cell_type": "code",
   "execution_count": null,
   "metadata": {},
   "outputs": [],
   "source": []
  },
  {
   "cell_type": "markdown",
   "metadata": {},
   "source": [
    "# How useful are competitions and hackathons?\n"
   ]
  },
  {
   "cell_type": "code",
   "execution_count": null,
   "metadata": {},
   "outputs": [],
   "source": []
  },
  {
   "cell_type": "code",
   "execution_count": null,
   "metadata": {},
   "outputs": [],
   "source": []
  },
  {
   "cell_type": "code",
   "execution_count": null,
   "metadata": {},
   "outputs": [],
   "source": []
  },
  {
   "cell_type": "markdown",
   "metadata": {},
   "source": [
    "# How do I find problems to solve? How do I know that they can be solved with ML?\n",
    "<img src =\"solve.jpg\">\n",
    "@bored panda"
   ]
  },
  {
   "cell_type": "code",
   "execution_count": null,
   "metadata": {},
   "outputs": [],
   "source": []
  },
  {
   "cell_type": "code",
   "execution_count": null,
   "metadata": {},
   "outputs": [],
   "source": []
  },
  {
   "cell_type": "markdown",
   "metadata": {},
   "source": [
    "# What can I do as someone without experience?\n",
    "- [fastai](https://course.fast.ai/videos/?lesson=1)"
   ]
  },
  {
   "cell_type": "code",
   "execution_count": null,
   "metadata": {},
   "outputs": [],
   "source": []
  },
  {
   "cell_type": "code",
   "execution_count": null,
   "metadata": {},
   "outputs": [],
   "source": []
  },
  {
   "cell_type": "code",
   "execution_count": null,
   "metadata": {},
   "outputs": [],
   "source": []
  },
  {
   "cell_type": "code",
   "execution_count": null,
   "metadata": {},
   "outputs": [],
   "source": []
  },
  {
   "cell_type": "code",
   "execution_count": null,
   "metadata": {},
   "outputs": [],
   "source": []
  },
  {
   "cell_type": "markdown",
   "metadata": {},
   "source": [
    "# Challenges and impact of AI in third world countries\n",
    "- Health : Filter\n",
    "- Industry : Efficiency\n",
    "- Research Scope"
   ]
  },
  {
   "cell_type": "code",
   "execution_count": null,
   "metadata": {},
   "outputs": [],
   "source": []
  },
  {
   "cell_type": "code",
   "execution_count": null,
   "metadata": {},
   "outputs": [],
   "source": []
  },
  {
   "cell_type": "markdown",
   "metadata": {},
   "source": [
    "# Part 2 : Hustling\n",
    "<img src=\"hustle.jpg\">\n",
    "@economic times"
   ]
  },
  {
   "cell_type": "code",
   "execution_count": null,
   "metadata": {},
   "outputs": [],
   "source": []
  },
  {
   "cell_type": "code",
   "execution_count": null,
   "metadata": {},
   "outputs": [],
   "source": []
  },
  {
   "cell_type": "code",
   "execution_count": null,
   "metadata": {},
   "outputs": [],
   "source": []
  },
  {
   "cell_type": "markdown",
   "metadata": {},
   "source": [
    "# NLP\n",
    "- [pwc](https://paperswithcode.com/area/natural-language-processing)"
   ]
  },
  {
   "cell_type": "code",
   "execution_count": null,
   "metadata": {},
   "outputs": [],
   "source": []
  },
  {
   "cell_type": "code",
   "execution_count": null,
   "metadata": {},
   "outputs": [],
   "source": []
  },
  {
   "cell_type": "code",
   "execution_count": null,
   "metadata": {},
   "outputs": [],
   "source": []
  },
  {
   "cell_type": "code",
   "execution_count": null,
   "metadata": {},
   "outputs": [],
   "source": []
  },
  {
   "cell_type": "markdown",
   "metadata": {},
   "source": [
    "# Medical\n",
    "- [kaggle](https://www.kaggle.com/andrewmvd/medical-mnist)"
   ]
  },
  {
   "cell_type": "code",
   "execution_count": null,
   "metadata": {},
   "outputs": [],
   "source": []
  },
  {
   "cell_type": "code",
   "execution_count": null,
   "metadata": {},
   "outputs": [],
   "source": []
  },
  {
   "cell_type": "code",
   "execution_count": null,
   "metadata": {},
   "outputs": [],
   "source": []
  },
  {
   "cell_type": "code",
   "execution_count": null,
   "metadata": {},
   "outputs": [],
   "source": []
  },
  {
   "cell_type": "markdown",
   "metadata": {},
   "source": [
    "# Satellite Imagery\n",
    "- [kaggle](https://www.kaggle.com/rhammell/ships-in-satellite-imagery)"
   ]
  },
  {
   "cell_type": "code",
   "execution_count": null,
   "metadata": {},
   "outputs": [],
   "source": []
  },
  {
   "cell_type": "code",
   "execution_count": null,
   "metadata": {},
   "outputs": [],
   "source": []
  },
  {
   "cell_type": "code",
   "execution_count": null,
   "metadata": {},
   "outputs": [],
   "source": []
  },
  {
   "cell_type": "code",
   "execution_count": null,
   "metadata": {},
   "outputs": [],
   "source": []
  },
  {
   "cell_type": "markdown",
   "metadata": {},
   "source": [
    "# Automotive\n",
    "- [Driverless](http://driverless.mit.edu/technology)\n",
    "- [Lex](https://deeplearning.mit.edu/)"
   ]
  },
  {
   "cell_type": "code",
   "execution_count": null,
   "metadata": {},
   "outputs": [],
   "source": []
  },
  {
   "cell_type": "code",
   "execution_count": null,
   "metadata": {},
   "outputs": [],
   "source": []
  },
  {
   "cell_type": "code",
   "execution_count": null,
   "metadata": {},
   "outputs": [],
   "source": []
  },
  {
   "cell_type": "code",
   "execution_count": null,
   "metadata": {},
   "outputs": [],
   "source": []
  },
  {
   "cell_type": "code",
   "execution_count": null,
   "metadata": {},
   "outputs": [],
   "source": []
  },
  {
   "cell_type": "code",
   "execution_count": null,
   "metadata": {},
   "outputs": [],
   "source": []
  },
  {
   "cell_type": "markdown",
   "metadata": {},
   "source": [
    "# PART 3 : Further\n",
    "<img src=\"further.jpg\">\n",
    "@outreach magazine"
   ]
  },
  {
   "cell_type": "code",
   "execution_count": null,
   "metadata": {},
   "outputs": [],
   "source": []
  },
  {
   "cell_type": "code",
   "execution_count": null,
   "metadata": {},
   "outputs": [],
   "source": []
  },
  {
   "cell_type": "markdown",
   "metadata": {},
   "source": [
    "# Generalizing models\n",
    "- Transfer learning \n",
    "- [paper](https://ftp.cs.wisc.edu/machine-learning/shavlik-group/torrey.handbook09.pdf)"
   ]
  },
  {
   "cell_type": "code",
   "execution_count": null,
   "metadata": {},
   "outputs": [],
   "source": []
  },
  {
   "cell_type": "code",
   "execution_count": null,
   "metadata": {},
   "outputs": [],
   "source": []
  },
  {
   "cell_type": "code",
   "execution_count": null,
   "metadata": {},
   "outputs": [],
   "source": []
  },
  {
   "cell_type": "code",
   "execution_count": null,
   "metadata": {},
   "outputs": [],
   "source": []
  },
  {
   "cell_type": "markdown",
   "metadata": {},
   "source": [
    "# Security issues\n",
    "- [fed](https://ai.googleblog.com/2017/04/federated-learning-collaborative.html)"
   ]
  },
  {
   "cell_type": "code",
   "execution_count": null,
   "metadata": {},
   "outputs": [],
   "source": []
  },
  {
   "cell_type": "code",
   "execution_count": null,
   "metadata": {},
   "outputs": [],
   "source": []
  },
  {
   "cell_type": "markdown",
   "metadata": {},
   "source": [
    "# MLOps\n",
    "- [huy](https://huyenchip.com/mlops/)"
   ]
  },
  {
   "cell_type": "code",
   "execution_count": null,
   "metadata": {},
   "outputs": [],
   "source": []
  },
  {
   "cell_type": "code",
   "execution_count": null,
   "metadata": {},
   "outputs": [],
   "source": []
  },
  {
   "cell_type": "markdown",
   "metadata": {},
   "source": [
    "# Real Time Machine learning\n",
    "- [huy](https://huyenchip.com/2020/12/27/real-time-machine-learning.html)"
   ]
  },
  {
   "cell_type": "code",
   "execution_count": null,
   "metadata": {},
   "outputs": [],
   "source": []
  },
  {
   "cell_type": "code",
   "execution_count": null,
   "metadata": {},
   "outputs": [],
   "source": []
  },
  {
   "cell_type": "code",
   "execution_count": null,
   "metadata": {},
   "outputs": [],
   "source": []
  },
  {
   "cell_type": "code",
   "execution_count": null,
   "metadata": {},
   "outputs": [],
   "source": []
  },
  {
   "cell_type": "markdown",
   "metadata": {},
   "source": [
    "# Thank you :)"
   ]
  }
 ],
 "metadata": {
  "interpreter": {
   "hash": "916dbcbb3f70747c44a77c7bcd40155683ae19c65e1c03b4aa3499c5328201f1"
  },
  "kernelspec": {
   "display_name": "Python 3.9.5 64-bit",
   "name": "python3"
  },
  "language_info": {
   "codemirror_mode": {
    "name": "ipython",
    "version": 3
   },
   "file_extension": ".py",
   "mimetype": "text/x-python",
   "name": "python",
   "nbconvert_exporter": "python",
   "pygments_lexer": "ipython3",
   "version": "3.9.5"
  }
 },
 "nbformat": 4,
 "nbformat_minor": 5
}
